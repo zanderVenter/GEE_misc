{
  "nbformat": 4,
  "nbformat_minor": 0,
  "metadata": {
    "colab": {
      "name": "Copy of Untitled0.ipynb",
      "version": "0.3.2",
      "provenance": [],
      "collapsed_sections": [],
      "include_colab_link": true
    },
    "kernelspec": {
      "name": "python3",
      "display_name": "Python 3"
    }
  },
  "cells": [
    {
      "cell_type": "markdown",
      "metadata": {
        "id": "view-in-github",
        "colab_type": "text"
      },
      "source": [
        "<a href=\"https://colab.research.google.com/github/zanderVenter/GEE_misc/blob/master/Asset_manager.ipynb\" target=\"_parent\"><img src=\"https://colab.research.google.com/assets/colab-badge.svg\" alt=\"Open In Colab\"/></a>"
      ]
    },
    {
      "metadata": {
        "id": "CWjD2SrZCENc",
        "colab_type": "text"
      },
      "cell_type": "markdown",
      "source": [
        "**Install the Earth Engine API**"
      ]
    },
    {
      "metadata": {
        "id": "VCdhaYp3_g7g",
        "colab_type": "code",
        "colab": {}
      },
      "cell_type": "code",
      "source": [
        "!pip install earthengine-api"
      ],
      "execution_count": 0,
      "outputs": []
    },
    {
      "metadata": {
        "id": "DJSN_D74Cg5b",
        "colab_type": "text"
      },
      "cell_type": "markdown",
      "source": [
        "Authenticate to Earth Engine"
      ]
    },
    {
      "metadata": {
        "id": "ai6HhWhy_d3_",
        "colab_type": "code",
        "colab": {}
      },
      "cell_type": "code",
      "source": [
        "!earthengine authenticate"
      ],
      "execution_count": 0,
      "outputs": []
    },
    {
      "metadata": {
        "id": "aAhsvJte_6uA",
        "colab_type": "code",
        "colab": {},
        "cellView": "code"
      },
      "cell_type": "code",
      "source": [
        "import ee\n",
        "ee.Initialize()"
      ],
      "execution_count": 0,
      "outputs": []
    },
    {
      "metadata": {
        "id": "l-JMxHKXCnio",
        "colab_type": "text"
      },
      "cell_type": "markdown",
      "source": [
        "Check the tasks status"
      ]
    },
    {
      "metadata": {
        "id": "-70ddVVlA5cL",
        "colab_type": "code",
        "colab": {}
      },
      "cell_type": "code",
      "source": [
        "tasks = ee.batch.Task.list()\n",
        "print(tasks)\n",
        "#!earthengine task list\n",
        "#!earthengine task info TASK_ID\n",
        "#!earthengine task cancel TASK_ID"
      ],
      "execution_count": 0,
      "outputs": []
    },
    {
      "metadata": {
        "id": "JpnX2VzxGVTo",
        "colab_type": "text"
      },
      "cell_type": "markdown",
      "source": [
        "List files"
      ]
    },
    {
      "metadata": {
        "id": "oxjKyM2zGWfg",
        "colab_type": "code",
        "colab": {}
      },
      "cell_type": "code",
      "source": [
        "!earthengine ls users/zandersamuel"
      ],
      "execution_count": 0,
      "outputs": []
    },
    {
      "metadata": {
        "id": "Wp2ePpIvDYeI",
        "colab_type": "text"
      },
      "cell_type": "markdown",
      "source": [
        "Check access control lists (ACL) for asset"
      ]
    },
    {
      "metadata": {
        "id": "x94EG8zFDaOk",
        "colab_type": "code",
        "colab": {}
      },
      "cell_type": "code",
      "source": [
        "!earthengine acl get users/zandersamuel/test\n",
        "#!earthengine acl set public users/username/asset_id\n",
        "#!earthengine acl ch -u username@gmail.com:R users/username/asset_id\n",
        "#!earthengine asset set --time_start 1978-10-15T12:34:56 users/username/asset_id"
      ],
      "execution_count": 0,
      "outputs": []
    },
    {
      "metadata": {
        "id": "K1B1tfxeFuP8",
        "colab_type": "text"
      },
      "cell_type": "markdown",
      "source": [
        "Copy assets from one directory to another"
      ]
    },
    {
      "metadata": {
        "id": "cwQRYJF4FwpR",
        "colab_type": "code",
        "colab": {}
      },
      "cell_type": "code",
      "source": [
        "!earthengine cp users/zandersamuel/test users/zandersamuel/test_test"
      ],
      "execution_count": 0,
      "outputs": []
    },
    {
      "metadata": {
        "id": "mVPL96FiFYKk",
        "colab_type": "text"
      },
      "cell_type": "markdown",
      "source": [
        "Interact with asset metadata"
      ]
    },
    {
      "metadata": {
        "id": "Yp5WG0g2FaQ9",
        "colab_type": "code",
        "colab": {}
      },
      "cell_type": "code",
      "source": [
        "!earthengine asset info users/zandersamuel/test\n",
        "#!earthengine asset set -p name=value users/username/asset_id"
      ],
      "execution_count": 0,
      "outputs": []
    },
    {
      "metadata": {
        "id": "Zc0RA62dGKoo",
        "colab_type": "text"
      },
      "cell_type": "markdown",
      "source": [
        "Create new directories and files"
      ]
    },
    {
      "metadata": {
        "id": "CI6JZoJFGOK_",
        "colab_type": "code",
        "colab": {}
      },
      "cell_type": "code",
      "source": [
        "#!earthengine create folder users/username/folder_id\n",
        "#!earthengine create collection users/username/collection_id"
      ],
      "execution_count": 0,
      "outputs": []
    },
    {
      "metadata": {
        "id": "aLXu36ukGlCo",
        "colab_type": "text"
      },
      "cell_type": "markdown",
      "source": [
        "Move or remove assets"
      ]
    },
    {
      "metadata": {
        "id": "OxaR67ZlGmc7",
        "colab_type": "code",
        "colab": {}
      },
      "cell_type": "code",
      "source": [
        "!earthengine mv users/username/asset_id users/username/new_asset_id\n",
        "!earthengine rm users/username/asset_id\n",
        "!earthengine rm -r users/username/folder_id"
      ],
      "execution_count": 0,
      "outputs": []
    },
    {
      "metadata": {
        "id": "polAQehFB_R5",
        "colab_type": "text"
      },
      "cell_type": "markdown",
      "source": [
        "**Import from Google Drive**\n",
        "\n",
        "In order to interact with files in Google Drive we need to install PyDrive."
      ]
    },
    {
      "metadata": {
        "id": "GfkC9NJz-dJt",
        "colab_type": "code",
        "colab": {},
        "cellView": "code"
      },
      "cell_type": "code",
      "source": [
        "#@title Install the PyDrive library\n",
        "\n",
        "# This only needs to be done once per notebook.\n",
        "!pip install -U PyDrive"
      ],
      "execution_count": 0,
      "outputs": []
    },
    {
      "metadata": {
        "id": "1MvR2Gqb-z2D",
        "colab_type": "text"
      },
      "cell_type": "markdown",
      "source": [
        "We need to import some authentication APIs so that we can read from Drive and/or a cloud storage bucket. See the Code snippets to the left."
      ]
    },
    {
      "metadata": {
        "id": "X_IJv57n-4MI",
        "colab_type": "code",
        "colab": {},
        "cellView": "code"
      },
      "cell_type": "code",
      "source": [
        "#@title Import authentication libraries\n",
        "\n",
        "from google.colab import auth\n",
        "from pydrive.auth import GoogleAuth\n",
        "from pydrive.drive import GoogleDrive\n",
        "from oauth2client.client import GoogleCredentials"
      ],
      "execution_count": 0,
      "outputs": []
    },
    {
      "metadata": {
        "id": "owRV6aQq-8gV",
        "colab_type": "code",
        "colab": {},
        "cellView": "code"
      },
      "cell_type": "code",
      "source": [
        "#@title Authenticate\n",
        "\n",
        "auth.authenticate_user()\n",
        "gauth = GoogleAuth()\n",
        "gauth.credentials = GoogleCredentials.get_application_default()\n",
        "drive = GoogleDrive(gauth)"
      ],
      "execution_count": 0,
      "outputs": []
    },
    {
      "metadata": {
        "id": "sOSvDaJNDKPr",
        "colab_type": "text"
      },
      "cell_type": "markdown",
      "source": [
        "**From Google Cloud storage**"
      ]
    },
    {
      "metadata": {
        "id": "9IAeZmZ2DI4f",
        "colab_type": "code",
        "colab": {}
      },
      "cell_type": "code",
      "source": [
        "!earthengine upload image --asset_id my_asset \\\n",
        "    $(gsutil ls gs://my-bucket/my_image/)\n"
      ],
      "execution_count": 0,
      "outputs": []
    },
    {
      "metadata": {
        "id": "TirYWOW7IBlV",
        "colab_type": "text"
      },
      "cell_type": "markdown",
      "source": [
        "**Using third party GEE asset manager**"
      ]
    },
    {
      "metadata": {
        "id": "9l8V-dfhIJHh",
        "colab_type": "code",
        "colab": {}
      },
      "cell_type": "code",
      "source": [
        "#!pip install geeadd\n",
        "!git clone https://github.com/samapriya/gee_asset_manager_addon\n",
        "!cd gee_asset_manager_addon && pip install -r requirements.txt\n",
        "!python setup.py install"
      ],
      "execution_count": 0,
      "outputs": []
    },
    {
      "metadata": {
        "id": "Lwm6PpxwJ_OX",
        "colab_type": "code",
        "colab": {
          "base_uri": "https://localhost:8080/",
          "height": 35
        },
        "outputId": "5733867e-b0c0-4738-c797-e1f0102823ef"
      },
      "cell_type": "code",
      "source": [
        "!geeadd assetsize [-h] --asset ASSET"
      ],
      "execution_count": 21,
      "outputs": [
        {
          "output_type": "stream",
          "text": [
            "/bin/bash: geeadd: command not found\n"
          ],
          "name": "stdout"
        }
      ]
    }
  ]
}